{
 "cells": [
  {
   "cell_type": "code",
   "execution_count": 137,
   "metadata": {},
   "outputs": [],
   "source": [
    "import pandas as pd\n",
    "import matplotlib.pyplot as plt"
   ]
  },
  {
   "cell_type": "code",
   "execution_count": 145,
   "metadata": {},
   "outputs": [],
   "source": [
    "def read_data(pfad):\n",
    "    df = pd.read_csv(pfad, encoding = \"ISO-8859-1\", sep=\"\\t\", header=[0,1], skiprows=9, decimal=',')\n",
    "    df.columns = ['Zyklen','Kurbelwinkel','Zylinder1_1','Zylinder2_1','Zylinder3_1','Zylinder4_1','pAuslass_1','pEinlass_1','TAuslass_1','TEinlass_1','Speed Board1']\n",
    "    df_mean = df.groupby('Kurbelwinkel').mean()\n",
    "    df_mean = df_mean.reset_index()\n",
    "    df_mean.plot(x='Kurbelwinkel', y='Zylinder1_1')"
   ]
  },
  {
   "cell_type": "code",
   "execution_count": 146,
   "metadata": {},
   "outputs": [],
   "source": [
    "pfad_test = 'Data/egr0_1600rpm_M0_basic.txt'"
   ]
  },
  {
   "cell_type": "code",
   "execution_count": 148,
   "metadata": {},
   "outputs": [
    {
     "data": {
      "image/png": "[encoded data removed]",
      "text/plain": [
       "<Figure size 432x288 with 1 Axes>"
      ]
     },
     "metadata": {
      "needs_background": "light"
     },
     "output_type": "display_data"
    }
   ],
   "source": [
    "read_data(pfad_test)"
   ]
  },
  {
   "cell_type": "code",
   "execution_count": 138,
   "metadata": {},
   "outputs": [],
   "source": [
    "df = pd.read_csv('Data/egr0_1600rpm_M0_basic.txt', encoding = \"ISO-8859-1\", sep=\"\\t\", header=[0,1], skiprows=9, decimal=',')"
   ]
  },
  {
   "cell_type": "code",
   "execution_count": 139,
   "metadata": {},
   "outputs": [
    {
     "data": {
      "text/html": [
       "<div>\n",
       "<style scoped>\n",
       "    .dataframe tbody tr th:only-of-type {\n",
       "        vertical-align: middle;\n",
       "    }\n",
       "\n",
       "    .dataframe tbody tr th {\n",
       "        vertical-align: top;\n",
       "    }\n",
       "\n",
       "    .dataframe thead tr th {\n",
       "        text-align: left;\n",
       "    }\n",
       "</style>\n",
       "<table border=\"1\" class=\"dataframe\">\n",
       "  <thead>\n",
       "    <tr>\n",
       "      <th></th>\n",
       "      <th>Zyklen</th>\n",
       "      <th>Kurbelwinkel</th>\n",
       "      <th>Zylinder1_1</th>\n",
       "      <th>Zylinder2_1</th>\n",
       "      <th>Zylinder3_1</th>\n",
       "      <th>Zylinder4_1</th>\n",
       "      <th>pAuslass_1</th>\n",
       "      <th>pEinlass_1</th>\n",
       "      <th>TAuslass_1</th>\n",
       "      <th>TEinlass_1</th>\n",
       "      <th>Speed Board1</th>\n",
       "    </tr>\n",
       "    <tr>\n",
       "      <th></th>\n",
       "      <th>[No.]</th>\n",
       "      <th>[°KW]</th>\n",
       "      <th>[bar]</th>\n",
       "      <th>[bar]</th>\n",
       "      <th>[bar]</th>\n",
       "      <th>[bar]</th>\n",
       "      <th>[bar]</th>\n",
       "      <th>[bar]</th>\n",
       "      <th>[°C]</th>\n",
       "      <th>[°C]</th>\n",
       "      <th>[rpm]</th>\n",
       "    </tr>\n",
       "  </thead>\n",
       "  <tbody>\n",
       "    <tr>\n",
       "      <th>0</th>\n",
       "      <td>1.0</td>\n",
       "      <td>-360.0</td>\n",
       "      <td>2.151</td>\n",
       "      <td>1.564</td>\n",
       "      <td>2.274</td>\n",
       "      <td>88.833</td>\n",
       "      <td>2.102</td>\n",
       "      <td>1.596</td>\n",
       "      <td>43.277</td>\n",
       "      <td>29.848</td>\n",
       "      <td>1586.169</td>\n",
       "    </tr>\n",
       "    <tr>\n",
       "      <th>1</th>\n",
       "      <td>1.0</td>\n",
       "      <td>-359.9</td>\n",
       "      <td>2.150</td>\n",
       "      <td>1.564</td>\n",
       "      <td>2.304</td>\n",
       "      <td>88.692</td>\n",
       "      <td>2.104</td>\n",
       "      <td>1.606</td>\n",
       "      <td>43.278</td>\n",
       "      <td>29.848</td>\n",
       "      <td>1586.169</td>\n",
       "    </tr>\n",
       "    <tr>\n",
       "      <th>2</th>\n",
       "      <td>1.0</td>\n",
       "      <td>-359.8</td>\n",
       "      <td>2.181</td>\n",
       "      <td>1.564</td>\n",
       "      <td>2.305</td>\n",
       "      <td>86.086</td>\n",
       "      <td>2.098</td>\n",
       "      <td>1.595</td>\n",
       "      <td>43.032</td>\n",
       "      <td>29.848</td>\n",
       "      <td>1586.169</td>\n",
       "    </tr>\n",
       "    <tr>\n",
       "      <th>3</th>\n",
       "      <td>1.0</td>\n",
       "      <td>-359.7</td>\n",
       "      <td>2.120</td>\n",
       "      <td>1.563</td>\n",
       "      <td>2.274</td>\n",
       "      <td>82.493</td>\n",
       "      <td>2.093</td>\n",
       "      <td>1.597</td>\n",
       "      <td>43.276</td>\n",
       "      <td>29.848</td>\n",
       "      <td>1586.169</td>\n",
       "    </tr>\n",
       "    <tr>\n",
       "      <th>4</th>\n",
       "      <td>1.0</td>\n",
       "      <td>-359.6</td>\n",
       "      <td>2.150</td>\n",
       "      <td>1.594</td>\n",
       "      <td>2.274</td>\n",
       "      <td>77.621</td>\n",
       "      <td>2.088</td>\n",
       "      <td>1.595</td>\n",
       "      <td>43.034</td>\n",
       "      <td>29.848</td>\n",
       "      <td>1586.169</td>\n",
       "    </tr>\n",
       "  </tbody>\n",
       "</table>\n",
       "</div>"
      ],
      "text/plain": [
       "  Zyklen Kurbelwinkel Zylinder1_1 Zylinder2_1 Zylinder3_1 Zylinder4_1  \\\n",
       "   [No.]        [°KW]       [bar]       [bar]       [bar]       [bar]   \n",
       "0    1.0       -360.0       2.151       1.564       2.274      88.833   \n",
       "1    1.0       -359.9       2.150       1.564       2.304      88.692   \n",
       "2    1.0       -359.8       2.181       1.564       2.305      86.086   \n",
       "3    1.0       -359.7       2.120       1.563       2.274      82.493   \n",
       "4    1.0       -359.6       2.150       1.594       2.274      77.621   \n",
       "\n",
       "  pAuslass_1 pEinlass_1 TAuslass_1 TEinlass_1 Speed Board1  \n",
       "       [bar]      [bar]       [°C]       [°C]        [rpm]  \n",
       "0      2.102      1.596     43.277     29.848     1586.169  \n",
       "1      2.104      1.606     43.278     29.848     1586.169  \n",
       "2      2.098      1.595     43.032     29.848     1586.169  \n",
       "3      2.093      1.597     43.276     29.848     1586.169  \n",
       "4      2.088      1.595     43.034     29.848     1586.169  "
      ]
     },
     "execution_count": 139,
     "metadata": {},
     "output_type": "execute_result"
    }
   ],
   "source": [
    "df.head()"
   ]
  },
  {
   "cell_type": "code",
   "execution_count": 140,
   "metadata": {
    "scrolled": true
   },
   "outputs": [],
   "source": [
    "df.columns = ['Zyklen','Kurbelwinkel','Zylinder1_1','Zylinder2_1','Zylinder3_1','Zylinder4_1','pAuslass_1','pEinlass_1','TAuslass_1','TEinlass_1','Speed Board1']"
   ]
  },
  {
   "cell_type": "code",
   "execution_count": 141,
   "metadata": {
    "scrolled": false
   },
   "outputs": [
    {
     "data": {
      "text/plain": [
       "<matplotlib.axes._subplots.AxesSubplot at 0x20ec7fbe908>"
      ]
     },
     "execution_count": 141,
     "metadata": {},
     "output_type": "execute_result"
    },
    {
     "data": {
      "image/png": "[encoded data removed]",
      "text/plain": [
       "<Figure size 432x288 with 1 Axes>"
      ]
     },
     "metadata": {
      "needs_background": "light"
     },
     "output_type": "display_data"
    }
   ],
   "source": [
    "df.plot(x='Kurbelwinkel', y='Zylinder1_1')"
   ]
  },
  {
   "cell_type": "code",
   "execution_count": 121,
   "metadata": {},
   "outputs": [],
   "source": [
    "df_mean = df.groupby('Kurbelwinkel').mean()"
   ]
  },
  {
   "cell_type": "code",
   "execution_count": 133,
   "metadata": {},
   "outputs": [],
   "source": [
    "df_mean = df_mean.reset_index()"
   ]
  },
  {
   "cell_type": "code",
   "execution_count": 136,
   "metadata": {},
   "outputs": [
    {
     "data": {
      "text/plain": [
       "<matplotlib.axes._subplots.AxesSubplot at 0x20ecb0ec198>"
      ]
     },
     "execution_count": 136,
     "metadata": {},
     "output_type": "execute_result"
    },
    {
     "data": {
      "image/png": "[encoded data removed]",
      "text/plain": [
       "<Figure size 432x288 with 1 Axes>"
      ]
     },
     "metadata": {
      "needs_background": "light"
     },
     "output_type": "display_data"
    }
   ],
   "source": [
    "df_mean.plot(x='Kurbelwinkel', y='Zylinder1_1')"
   ]
  },
  {
   "cell_type": "code",
   "execution_count": null,
   "metadata": {},
   "outputs": [],
   "source": []
  }
 ],
 "metadata": {
  "kernelspec": {
   "display_name": "Python 3",
   "language": "python",
   "name": "python3"
  },
  "language_info": {
   "codemirror_mode": {
    "name": "ipython",
    "version": 3
   },
   "file_extension": ".py",
   "mimetype": "text/x-python",
   "name": "python",
   "nbconvert_exporter": "python",
   "pygments_lexer": "ipython3",
   "version": "3.7.3"
  }
 },
 "nbformat": 4,
 "nbformat_minor": 2
}
